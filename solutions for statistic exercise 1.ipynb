{
 "cells": [
  {
   "cell_type": "markdown",
   "metadata": {},
   "source": [
    "# What is the True Normal Human Body Temperature? \n",
    "\n",
    "#### Background\n",
    "\n",
    "The mean normal body temperature was held to be 37$^{\\circ}$C or 98.6$^{\\circ}$F for more than 120 years since it was first conceptualized and reported by Carl Wunderlich in a famous 1868 book. But, is this value statistically correct?"
   ]
  },
  {
   "cell_type": "markdown",
   "metadata": {},
   "source": [
    "<div class=\"span5 alert alert-info\">\n",
    "<h3>Exercises</h3>\n",
    "\n",
    "<p>In this exercise, you will analyze a dataset of human body temperatures and employ the concepts of hypothesis testing, confidence intervals, and statistical significance.</p>\n",
    "\n",
    "<p>Answer the following questions <b>in this notebook below and submit to your Github account</b>.</p> \n",
    "\n",
    "<ol>\n",
    "<li>  Is the distribution of body temperatures normal? \n",
    "    <ul>\n",
    "    <li> Although this is not a requirement for CLT to hold (read CLT carefully), it gives us some peace of mind that the population may also be normally distributed if we assume that this sample is representative of the population.\n",
    "    </ul>\n",
    "<li>  Is the sample size large? Are the observations independent?\n",
    "    <ul>\n",
    "    <li> Remember that this is a condition for the CLT, and hence the statistical tests we are using, to apply.\n",
    "    </ul>\n",
    "<li>  Is the true population mean really 98.6 degrees F?\n",
    "    <ul>\n",
    "    <li> Would you use a one-sample or two-sample test? Why?\n",
    "    <li> In this situation, is it appropriate to use the $t$ or $z$ statistic? \n",
    "    <li> Now try using the other test. How is the result be different? Why?\n",
    "    </ul>\n",
    "<li>  At what temperature should we consider someone's temperature to be \"abnormal\"?\n",
    "    <ul>\n",
    "    <li> Start by computing the margin of error and confidence interval.\n",
    "    </ul>\n",
    "<li>  Is there a significant difference between males and females in normal temperature?\n",
    "    <ul>\n",
    "    <li> What test did you use and why?\n",
    "    <li> Write a story with your conclusion in the context of the original problem.\n",
    "    </ul>\n",
    "</ol>\n",
    "\n",
    "You can include written notes in notebook cells using Markdown: \n",
    "   - In the control panel at the top, choose Cell > Cell Type > Markdown\n",
    "   - Markdown syntax: http://nestacms.com/docs/creating-content/markdown-cheat-sheet\n",
    "\n",
    "#### Resources\n",
    "\n",
    "+ Information and data sources: http://www.amstat.org/publications/jse/datasets/normtemp.txt, http://www.amstat.org/publications/jse/jse_data_archive.htm\n",
    "+ Markdown syntax: http://nestacms.com/docs/creating-content/markdown-cheat-sheet\n",
    "\n",
    "****\n",
    "</div>"
   ]
  },
  {
   "cell_type": "code",
   "execution_count": 3,
   "metadata": {},
   "outputs": [
    {
     "ename": "ModuleNotFoundError",
     "evalue": "No module named 'first'",
     "output_type": "error",
     "traceback": [
      "\u001b[0;31m---------------------------------------------------------------------------\u001b[0m",
      "\u001b[0;31mModuleNotFoundError\u001b[0m                       Traceback (most recent call last)",
      "\u001b[0;32m<ipython-input-3-2aba14a45e9a>\u001b[0m in \u001b[0;36m<module>\u001b[0;34m()\u001b[0m\n\u001b[1;32m      1\u001b[0m \u001b[0;32mimport\u001b[0m \u001b[0mpandas\u001b[0m \u001b[0;32mas\u001b[0m \u001b[0mpd\u001b[0m\u001b[0;34m\u001b[0m\u001b[0m\n\u001b[0;32m----> 2\u001b[0;31m \u001b[0;32mimport\u001b[0m \u001b[0mfirst\u001b[0m\u001b[0;34m\u001b[0m\u001b[0m\n\u001b[0m\u001b[1;32m      3\u001b[0m \u001b[0mfirst\u001b[0m\u001b[0;34m.\u001b[0m\u001b[0mhead\u001b[0m\u001b[0;34m(\u001b[0m\u001b[0;34m)\u001b[0m\u001b[0;34m\u001b[0m\u001b[0m\n\u001b[1;32m      4\u001b[0m \u001b[0;34m\u001b[0m\u001b[0m\n\u001b[1;32m      5\u001b[0m \u001b[0mdf\u001b[0m \u001b[0;34m=\u001b[0m \u001b[0mpd\u001b[0m\u001b[0;34m.\u001b[0m\u001b[0mread_csv\u001b[0m\u001b[0;34m(\u001b[0m\u001b[0;34m'data/human_body_temperature.csv'\u001b[0m\u001b[0;34m)\u001b[0m\u001b[0;34m\u001b[0m\u001b[0m\n",
      "\u001b[0;31mModuleNotFoundError\u001b[0m: No module named 'first'"
     ]
    }
   ],
   "source": [
    "import pandas as pd\n",
    "\n",
    "import first\n",
    "first.head()\n",
    "\n",
    "df = pd.read_csv('data/human_body_temperature.csv')"
   ]
  },
  {
   "cell_type": "code",
   "execution_count": 65,
   "metadata": {},
   "outputs": [
    {
     "data": {
      "text/html": [
       "<div>\n",
       "<style>\n",
       "    .dataframe thead tr:only-child th {\n",
       "        text-align: right;\n",
       "    }\n",
       "\n",
       "    .dataframe thead th {\n",
       "        text-align: left;\n",
       "    }\n",
       "\n",
       "    .dataframe tbody tr th {\n",
       "        vertical-align: top;\n",
       "    }\n",
       "</style>\n",
       "<table border=\"1\" class=\"dataframe\">\n",
       "  <thead>\n",
       "    <tr style=\"text-align: right;\">\n",
       "      <th></th>\n",
       "      <th>temperature</th>\n",
       "      <th>gender</th>\n",
       "      <th>heart_rate</th>\n",
       "    </tr>\n",
       "  </thead>\n",
       "  <tbody>\n",
       "    <tr>\n",
       "      <th>0</th>\n",
       "      <td>99.3</td>\n",
       "      <td>F</td>\n",
       "      <td>68.0</td>\n",
       "    </tr>\n",
       "    <tr>\n",
       "      <th>1</th>\n",
       "      <td>98.4</td>\n",
       "      <td>F</td>\n",
       "      <td>81.0</td>\n",
       "    </tr>\n",
       "    <tr>\n",
       "      <th>2</th>\n",
       "      <td>97.8</td>\n",
       "      <td>M</td>\n",
       "      <td>73.0</td>\n",
       "    </tr>\n",
       "    <tr>\n",
       "      <th>3</th>\n",
       "      <td>99.2</td>\n",
       "      <td>F</td>\n",
       "      <td>66.0</td>\n",
       "    </tr>\n",
       "    <tr>\n",
       "      <th>4</th>\n",
       "      <td>98.0</td>\n",
       "      <td>F</td>\n",
       "      <td>73.0</td>\n",
       "    </tr>\n",
       "  </tbody>\n",
       "</table>\n",
       "</div>"
      ],
      "text/plain": [
       "   temperature gender  heart_rate\n",
       "0         99.3      F        68.0\n",
       "1         98.4      F        81.0\n",
       "2         97.8      M        73.0\n",
       "3         99.2      F        66.0\n",
       "4         98.0      F        73.0"
      ]
     },
     "execution_count": 65,
     "metadata": {},
     "output_type": "execute_result"
    }
   ],
   "source": [
    "# Your work here.\n",
    "# import the necessary packages first, numpy and matplotlib are commonly used\n",
    "import matplotlib.pyplot as plt\n",
    "import numpy as np\n",
    "import scipy.stats as stats\n",
    "# import all the stat methods needed!\n",
    "df.head()\n",
    "# df.head() returen the first n lines of the data and help you get the header names "
   ]
  },
  {
   "cell_type": "markdown",
   "metadata": {},
   "source": [
    "t = df.temperature\n",
    "binwidth = 0.2\n",
    "## plt.hist(array_like/data input, bins/number of bins, normed)\n",
    "n, bins, patches = plt.hist(t, bins=np.arange(min(t), max(t) + binwidth, binwidth), normed=1)\n",
    "mu = df.temperature.mean()\n",
    "var = df.temperature.var()\n",
    "sigma = np.sqrt(var)\n",
    "plt.plot(bins, stats.norm.pdf((bins-mu)/sigma), color='r')\n",
    "\n"
   ]
  },
  {
   "cell_type": "code",
   "execution_count": null,
   "metadata": {
    "collapsed": true
   },
   "outputs": [],
   "source": []
  },
  {
   "cell_type": "code",
   "execution_count": 66,
   "metadata": {},
   "outputs": [
    {
     "name": "stdout",
     "output_type": "stream",
     "text": [
      "Sample mean is:  98.24923076923078\n",
      "Sample variance is:  0.5375575432319613\n"
     ]
    }
   ],
   "source": [
    "print (\"Sample mean is: \", df.temperature.mean())\n",
    "print (\"Sample variance is: \", df.temperature.var())"
   ]
  },
  {
   "cell_type": "code",
   "execution_count": 67,
   "metadata": {},
   "outputs": [
    {
     "name": "stdout",
     "output_type": "stream",
     "text": [
      "the value of chi is: 121436377.258\n",
      "the degree of the freedom is: 23\n"
     ]
    }
   ],
   "source": [
    "#Q1 is the distribution of the human temperature normal?\n",
    "#make the null hypothesis: H0: the human temperature fails in the a normal distribution\n",
    "# We assume each temperature is an independent normal variable, and thus Chi test is applied\n",
    "#cdf= cumulative distribution function\n",
    "expected = (stats.norm.cdf((bins[1:]-mu)/sigma) - stats.norm.cdf((bins[:-1]-mu)/sigma))\n",
    "chi = sum((n-expected)**2/expected)\n",
    "degree = len(bins)-1\n",
    "print (\"the value of chi is:\", chi)\n",
    "print (\"the degree of the freedom is:\", degree)\n"
   ]
  },
  {
   "cell_type": "code",
   "execution_count": 68,
   "metadata": {},
   "outputs": [
    {
     "data": {
      "text/plain": [
       "Power_divergenceResult(statistic=121436377.25844333, pvalue=0.0)"
      ]
     },
     "execution_count": 68,
     "metadata": {},
     "output_type": "execute_result"
    }
   ],
   "source": [
    "stats.chisquare(n, expected)"
   ]
  },
  {
   "cell_type": "code",
   "execution_count": 69,
   "metadata": {},
   "outputs": [
    {
     "data": {
      "text/plain": [
       "NormaltestResult(statistic=2.7038014333192031, pvalue=0.2587479863488254)"
      ]
     },
     "execution_count": 69,
     "metadata": {},
     "output_type": "execute_result"
    }
   ],
   "source": [
    "stats.normaltest(df.temperature)"
   ]
  },
  {
   "cell_type": "code",
   "execution_count": 70,
   "metadata": {
    "collapsed": true
   },
   "outputs": [],
   "source": [
    "#The sample p-value is larger than the normal test(table) pvalue\n",
    "#Thus, we cannot reject the null hypothesis"
   ]
  },
  {
   "cell_type": "code",
   "execution_count": 71,
   "metadata": {},
   "outputs": [
    {
     "name": "stdout",
     "output_type": "stream",
     "text": [
      "the sample size is : 130\n"
     ]
    }
   ],
   "source": [
    "# Q2 is the sample large enough\n",
    "#Return the dimmension of the dataframe\n",
    "print (\"the sample size is :\", df.shape[0])"
   ]
  },
  {
   "cell_type": "code",
   "execution_count": 72,
   "metadata": {
    "collapsed": true
   },
   "outputs": [],
   "source": [
    "# CLT (central limit therory) works when the sample size is larger than 30, thus the sample\n",
    "# is large enough"
   ]
  },
  {
   "cell_type": "code",
   "execution_count": 73,
   "metadata": {
    "collapsed": true
   },
   "outputs": [],
   "source": [
    "# Q3 whether the true population mean is 98.6 degrees F\n",
    "# This is a one sample test, b/c the mean is used to infer the whole population\n",
    "# The null hypothesis is H0 mu=98.6, H1: mu~=98.6, the significance level is set as 5%"
   ]
  },
  {
   "cell_type": "code",
   "execution_count": 74,
   "metadata": {
    "collapsed": true
   },
   "outputs": [],
   "source": [
    "mu = df.temperature.mean()\n",
    "s = df.temperature.std()\n",
    "n = len(df.temperature)\n",
    "s_mean= s/(np.sqrt(n))"
   ]
  },
  {
   "cell_type": "code",
   "execution_count": 75,
   "metadata": {},
   "outputs": [
    {
     "name": "stdout",
     "output_type": "stream",
     "text": [
      "standard error of the mean: 0.0643044168379\n"
     ]
    }
   ],
   "source": [
    "print (\"standard error of the mean:\",s_mean)"
   ]
  },
  {
   "cell_type": "code",
   "execution_count": 76,
   "metadata": {},
   "outputs": [
    {
     "name": "stdout",
     "output_type": "stream",
     "text": [
      "the Z value is: -5.45482329236\n"
     ]
    }
   ],
   "source": [
    "# calculate the Z value\n",
    "z = (mu-98.6)/s_mean\n",
    "print (\"the Z value is:\", z)"
   ]
  },
  {
   "cell_type": "code",
   "execution_count": 77,
   "metadata": {},
   "outputs": [
    {
     "name": "stdout",
     "output_type": "stream",
     "text": [
      "the p value is equal to: 4.90215701411e-08\n"
     ]
    }
   ],
   "source": [
    "# calculat the corresponding p value\n",
    "p = stats.norm.sf(abs(z))*2\n",
    "print(\"the p value is equal to:\",p)"
   ]
  },
  {
   "cell_type": "code",
   "execution_count": 78,
   "metadata": {
    "collapsed": true
   },
   "outputs": [],
   "source": [
    "# the p value is much smaller than the significance level 0.05, thus reject the null hypothesis."
   ]
  },
  {
   "cell_type": "code",
   "execution_count": 79,
   "metadata": {},
   "outputs": [
    {
     "name": "stdout",
     "output_type": "stream",
     "text": [
      "The confidence interval is: (98.166821343160748, 98.331640195300807) .\n",
      "If the temperature is outside this range, it is abnormal.\n"
     ]
    }
   ],
   "source": [
    "# Q4 at what temperature should we consider the person's temperature as abnormal?\n",
    "# if the temperature is outside the confidence interval, we may assume the person's \n",
    "# temperature is abnormal. Take 95% confidence interval\n",
    "conf =0.95\n",
    "conf_z = 1-(1-conf)*2\n",
    "conf_mean  = stats.norm.ppf(conf_z)*s_mean\n",
    "CI = (mu-conf_mean, mu+conf_mean)\n",
    "print(\"The confidence interval is:\", CI,\".\" )\n",
    "print (\"If the temperature is outside this range, it is abnormal.\")"
   ]
  },
  {
   "cell_type": "code",
   "execution_count": 80,
   "metadata": {},
   "outputs": [
    {
     "name": "stdout",
     "output_type": "stream",
     "text": [
      "The standard error for difference between males and females'temperature is: 0.12655395042\n"
     ]
    }
   ],
   "source": [
    "#Q5 Is there a significant difference between males and females in normal temperature?\n",
    "mean_female = df[df.gender == \"F\"].temperature.mean()\n",
    "mean_male = df[df.gender ==\"M\"].temperature.mean()\n",
    "var_female = df[df.gender == \"F\"].temperature.var()\n",
    "var_male = df[df.gender ==\"M\"].temperature.var()\n",
    "n_female =len(df[df.gender == \"F\"].temperature)\n",
    "n_male =len(df[df.gender == \"M\"].temperature)\n",
    "SE = np. sqrt(var_female/n_female+var_male/n_male)\n",
    "print ( \"The standard error for difference between males and females'temperature is:\", SE)"
   ]
  },
  {
   "cell_type": "code",
   "execution_count": 81,
   "metadata": {},
   "outputs": [
    {
     "name": "stdout",
     "output_type": "stream",
     "text": [
      "The Z valus is: 2.28543453817\n"
     ]
    }
   ],
   "source": [
    "z = (mean_female-mean_male)/SE\n",
    "print (\"The Z valus is:\",z)"
   ]
  },
  {
   "cell_type": "code",
   "execution_count": 82,
   "metadata": {},
   "outputs": [
    {
     "name": "stdout",
     "output_type": "stream",
     "text": [
      "The p value for the difference temperature between male and female is: 0.000124181612419\n"
     ]
    }
   ],
   "source": [
    "p = stats.norm.sf(abs(z))**2\n",
    "print (\"The p value for the difference temperature between male and female is:\", p)"
   ]
  },
  {
   "cell_type": "code",
   "execution_count": 83,
   "metadata": {
    "collapsed": true
   },
   "outputs": [],
   "source": [
    "# The p value is much smaller than the significance value 5%, thus reject the null hypothesis\n",
    "# There is difference between male and female temperature"
   ]
  }
 ],
 "metadata": {
  "kernelspec": {
   "display_name": "Python 3",
   "language": "python",
   "name": "python3"
  },
  "language_info": {
   "codemirror_mode": {
    "name": "ipython",
    "version": 3
   },
   "file_extension": ".py",
   "mimetype": "text/x-python",
   "name": "python",
   "nbconvert_exporter": "python",
   "pygments_lexer": "ipython3",
   "version": "3.6.1"
  }
 },
 "nbformat": 4,
 "nbformat_minor": 1
}
